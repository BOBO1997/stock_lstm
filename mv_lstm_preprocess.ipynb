{
 "cells": [
  {
   "cell_type": "markdown",
   "metadata": {},
   "source": [
    "# 多変量LSTM: データ整形\n",
    "- nn.Dataset多変量用の入力データを作成\n",
    "\n",
    "### 実装する機能\n",
    "- dataframeの統合: OK\n",
    "- dataframeの共通部分を抽出: OK\n",
    "- torch tensorに変換: OK\n",
    "- データの標準化: OK\n",
    "- 面倒なので飛んでいる日付に関するデータの補間はまだやっていません"
   ]
  },
  {
   "cell_type": "code",
   "execution_count": 1,
   "metadata": {},
   "outputs": [],
   "source": [
    "import inspect\n",
    "import numpy as np\n",
    "import pandas as pd\n",
    "import matplotlib.pyplot as plt\n",
    "from matplotlib import animation\n",
    "import torch\n",
    "import torch.utils.data as data"
   ]
  },
  {
   "cell_type": "code",
   "execution_count": 2,
   "metadata": {},
   "outputs": [],
   "source": [
    "class mv_dataset(data.Dataset):\n",
    "    def __init__(self, file_paths, seq_len = 50, predict_len = 10, predict_data = [0]):\n",
    "        super().__init__()\n",
    "        self.device = torch.device(\"cuda\" if torch.cuda.is_available() else \"cpu\")\n",
    "        self.file_paths = file_paths\n",
    "        self.seq_len = seq_len\n",
    "        self.predict_len = predict_len\n",
    "        self.predict_data = predict_data\n",
    "        self.data_mean, self.data_std = None, None\n",
    "\n",
    "        self.raw_dfs = [pd.read_csv(file_path, index_col=0) for file_path in self.file_paths] # list of dataframes\n",
    "        self.dfs = self.combine_dfs() # dataframe\n",
    "        self.data = self.dfs.values # ndarray, shape = (self.dfs.shape[0], len(dfs))\n",
    "        self.normalized_data = self.normalize(self.data, axis=0) # normalized among each column\n",
    "        self.data_size = self.data.shape[0] - self.seq_len - self.predict_len\n",
    "\n",
    "    def __len__(self):\n",
    "        return self.data_size\n",
    "\n",
    "    def __getitem__(self, index):\n",
    "        seq = [self.normalized_data[index + i] for i in range(self.seq_len)]\n",
    "        label = [self.normalized_data[index + self.seq_len + i, self.predict_data] for i in range(self.predict_len)]\n",
    "        return torch.tensor(seq, dtype=torch.float32).to(self.device), torch.tensor(label, dtype=torch.float32).to(self.device)\n",
    "\n",
    "    def normalize(self, x, axis = None):\n",
    "        self.data_mean = x.mean(axis=axis, keepdims=True)\n",
    "        self.data_std  = np.std(x, axis=axis, keepdims=True)\n",
    "        return (x - self.data_mean) / self.data_std\n",
    "\n",
    "    def combine_dfs(self):\n",
    "        dfs = self.raw_dfs[0]\n",
    "        for df in self.raw_dfs[1:]:\n",
    "            dfs = dfs.join(df, how='inner')\n",
    "        return dfs\n",
    "    \n",
    "    def interpolation(self):\n",
    "        # 日付が飛んでいる部分を補完\n",
    "        # 未実装\n",
    "        pass"
   ]
  },
  {
   "cell_type": "code",
   "execution_count": 3,
   "metadata": {},
   "outputs": [
    {
     "data": {
      "text/plain": [
       "CompletedProcess(args=['jupyter', 'nbconvert', '--to', 'python', 'mv_lstm_preprocess.ipynb'], returncode=0)"
      ]
     },
     "execution_count": 3,
     "metadata": {},
     "output_type": "execute_result"
    }
   ],
   "source": [
    "import subprocess\n",
    "subprocess.run(['jupyter', 'nbconvert', '--to', 'python', 'mv_lstm_preprocess.ipynb'])"
   ]
  }
 ],
 "metadata": {
  "kernelspec": {
   "display_name": "Python 3",
   "language": "python",
   "name": "python3"
  },
  "language_info": {
   "codemirror_mode": {
    "name": "ipython",
    "version": 3
   },
   "file_extension": ".py",
   "mimetype": "text/x-python",
   "name": "python",
   "nbconvert_exporter": "python",
   "pygments_lexer": "ipython3",
   "version": "3.7.7"
  }
 },
 "nbformat": 4,
 "nbformat_minor": 4
}
