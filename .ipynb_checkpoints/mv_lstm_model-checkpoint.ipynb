{
 "cells": [
  {
   "cell_type": "markdown",
   "metadata": {},
   "source": [
    "# 多変量LSTM: モデルの定義\n",
    "\n"
   ]
  },
  {
   "cell_type": "code",
   "execution_count": 1,
   "metadata": {},
   "outputs": [],
   "source": [
    "import sys\n",
    "import inspect\n",
    "import numpy as np\n",
    "\n",
    "import torch\n",
    "import torch.nn as nn\n",
    "import torch.utils.data as data\n",
    "import torch.nn.functional as F\n",
    "import torch.optim as optim"
   ]
  },
  {
   "cell_type": "code",
   "execution_count": 2,
   "metadata": {},
   "outputs": [],
   "source": [
    "class mv_lstm(nn.Module):\n",
    "    def __init__(self, input_size, output_size, hidden_size, num_layers, batch_size, seq_len, predict_len, dropout = 0):\n",
    "        super().__init__()\n",
    "        self.output_size = output_size\n",
    "        self.hidden_size = hidden_size\n",
    "        self.batch_size = batch_size\n",
    "        self.seq_len = seq_len # 可変長にできるならいらないかも\n",
    "        self.predict_len = predict_len # 可変長にできるならいらないかも\n",
    "\n",
    "        self.lstm = nn.LSTM(input_size = input_size,\n",
    "                             hidden_size = hidden_size,\n",
    "                             num_layers = num_layers,\n",
    "                             batch_first = True,\n",
    "                             dropout = dropout) # definition of lstm rnn layer\n",
    "        self.linear = nn.Linear(self.seq_len * self.hidden_size, self.predict_len * self.output_size) # definition of linear layer\n",
    "\n",
    "    def forward(self, lstm_input, hidden=None, training=True):\n",
    "        lstm_output, (hidden, cell) = self.lstm(lstm_input, hidden) # lstm rnn layer\n",
    "        # reshape the lstm layer output tensor for input of linear layer\n",
    "        linear_input = lstm_output.reshape(self.batch_size, self.seq_len * self.hidden_size) if training else lstm_output.reshape(1, self.seq_len * self.hidden_size)\n",
    "        linear_output = self.linear(linear_input) # linear layer\n",
    "        # reshape the linear layer output for computing loss\n",
    "        output = linear_output.view(self.batch_size, self.predict_len, self.output_size) if training else linear_output.view(1, self.predict_len, self.output_size)\n",
    "        return output"
   ]
  },
  {
   "cell_type": "code",
   "execution_count": 3,
   "metadata": {},
   "outputs": [],
   "source": [
    "class mv_lstm_same_seq(nn.Module):\n",
    "    def __init__(self, input_size, output_size, hidden_size, num_layers, batch_size, seq_len, predict_len, dropout = 0):\n",
    "        super().__init__()\n",
    "        self.output_size = output_size\n",
    "        self.hidden_size = hidden_size\n",
    "        self.seq_len = seq_len # 可変長にできるならいらないかも\n",
    "        self.predict_len = predict_len # 可変長にできるならいらないかも\n",
    "\n",
    "        self.lstm = nn.LSTM(input_size = input_size,\n",
    "                             hidden_size = hidden_size,\n",
    "                             num_layers = num_layers,\n",
    "                             batch_first = True,\n",
    "                             dropout = dropout) # definition of lstm rnn layer\n",
    "        self.linear = nn.Linear(self.hidden_size, self.output_size) # definition of linear layer\n",
    "\n",
    "    def forward(self, lstm_input, hidden=None):\n",
    "        lstm_output, (hidden, cell) = self.lstm(lstm_input, hidden) # lstm rnn layer\n",
    "        linear_output = self.linear(lstm_output) # linear layer, this is ok if seq_len == predict_len\n",
    "        return linear_output"
   ]
  },
  {
   "cell_type": "code",
   "execution_count": 4,
   "metadata": {
    "scrolled": true
   },
   "outputs": [
    {
     "data": {
      "text/plain": [
       "CompletedProcess(args=['jupyter', 'nbconvert', '--to', 'python', 'mv_lstm_model.ipynb'], returncode=0)"
      ]
     },
     "execution_count": 4,
     "metadata": {},
     "output_type": "execute_result"
    }
   ],
   "source": [
    "import subprocess\n",
    "subprocess.run(['jupyter', 'nbconvert', '--to', 'python', 'mv_lstm_model.ipynb'])"
   ]
  }
 ],
 "metadata": {
  "kernelspec": {
   "display_name": "Python 3",
   "language": "python",
   "name": "python3"
  },
  "language_info": {
   "codemirror_mode": {
    "name": "ipython",
    "version": 3
   },
   "file_extension": ".py",
   "mimetype": "text/x-python",
   "name": "python",
   "nbconvert_exporter": "python",
   "pygments_lexer": "ipython3",
   "version": "3.7.7"
  }
 },
 "nbformat": 4,
 "nbformat_minor": 4
}
